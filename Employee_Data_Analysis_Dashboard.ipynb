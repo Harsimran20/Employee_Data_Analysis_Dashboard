{
 "cells": [
  {
   "cell_type": "code",
   "execution_count": 2,
   "id": "df57b8ae-303d-4e37-a90b-a24e2ce621f9",
   "metadata": {},
   "outputs": [
    {
     "name": "stdout",
     "output_type": "stream",
     "text": [
      "               Name  Age Department  Salary  Experience  Gender    JoinDate\n",
      "0     Antonio Brown   50         HR   86250           5  Female  2021-01-02\n",
      "1       Anna Wright   36    Finance  102082          34  Female  2016-06-17\n",
      "2       Connor Mayo   29      Sales   64754          23    Male  2017-09-24\n",
      "3  Gregory Alvarado   42    Finance   41411          28    Male  2018-02-23\n",
      "4   Jonathan Fuller   40         HR   32911          30  Female  2025-01-11\n"
     ]
    }
   ],
   "source": [
    "import pandas as pd\n",
    "df = pd.read_csv(\"C:/Users/ACER/Downloads/employee_data.csv\")\n",
    "print(df.head())\n"
   ]
  },
  {
   "cell_type": "code",
   "execution_count": null,
   "id": "0362adf6-d586-4de1-a075-6fb341aa038e",
   "metadata": {},
   "outputs": [],
   "source": [
    "import seaborn as sns\n",
    "import matplotlib.pyplot as plt\n",
    "\n",
    "sns.histplot(df['Salary'], kde=True, bins=10)\n",
    "plt.title(\"Salary Distribution\")\n",
    "plt.xlabel(\"Salary\")\n",
    "plt.ylabel(\"Frequency\")\n",
    "plt.show()\n"
   ]
  }
 ],
 "metadata": {
  "kernelspec": {
   "display_name": "Python [conda env:base] *",
   "language": "python",
   "name": "conda-base-py"
  },
  "language_info": {
   "codemirror_mode": {
    "name": "ipython",
    "version": 3
   },
   "file_extension": ".py",
   "mimetype": "text/x-python",
   "name": "python",
   "nbconvert_exporter": "python",
   "pygments_lexer": "ipython3",
   "version": "3.12.7"
  }
 },
 "nbformat": 4,
 "nbformat_minor": 5
}
